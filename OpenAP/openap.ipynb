{
 "cells": [
  {
   "cell_type": "markdown",
   "id": "3bcf6641",
   "metadata": {},
   "source": [
    "# 1  🪬 Aircraft and engines\n",
    "he prop package in openap allows users to obtain aircraft and engine-related data quickly. We will demonstrate usage through the following example.\n",
    "## 1.1 Supported aircraft type codes\n",
    "First, we need to import the prop package from the OpenAP library."
   ]
  },
  {
   "cell_type": "code",
   "execution_count": 5,
   "id": "c71d9088",
   "metadata": {},
   "outputs": [],
   "source": [
    "from openap import prop\n",
    "from pprint import pprint"
   ]
  },
  {
   "cell_type": "markdown",
   "id": "e1e78183",
   "metadata": {},
   "source": [
    "We can get a list of available aircraft openap.prop.available_aircraft() function:"
   ]
  },
  {
   "cell_type": "code",
   "execution_count": 6,
   "id": "d5b70360",
   "metadata": {},
   "outputs": [
    {
     "name": "stdout",
     "output_type": "stream",
     "text": [
      "Supports 37 aircraft types\n",
      "['a19n', 'a20n', 'a21n', 'a318', 'a319', 'a320', 'a321', 'a332', 'a333', 'a343', 'a359', 'a388', 'b37m', 'b38m', 'b39m', 'b3xm', 'b734', 'b737', 'b738', 'b739', 'b744', 'b748', 'b752', 'b763', 'b772', 'b773', 'b77w', 'b788', 'b789', 'c550', 'crj9', 'e145', 'e170', 'e190', 'e195', 'e75l', 'glf6']\n"
     ]
    }
   ],
   "source": [
    "avaiable_aircraft = prop.available_aircraft()\n",
    "\n",
    "print(f\"Supports {len(avaiable_aircraft)} aircraft types\")\n",
    "print(avaiable_aircraft)"
   ]
  },
  {
   "cell_type": "markdown",
   "id": "09246afc",
   "metadata": {},
   "source": [
    "## 1.2 Aircraft data\n",
    "We can get the parameters for one aircraft using openap.prop.aircraft() function:"
   ]
  },
  {
   "cell_type": "code",
   "execution_count": 7,
   "id": "6bfde0b1",
   "metadata": {},
   "outputs": [
    {
     "name": "stdout",
     "output_type": "stream",
     "text": [
      "{'aircraft': 'Airbus A320',\n",
      " 'ceiling': 12500,\n",
      " 'cruise': {'height': 11000, 'mach': 0.78, 'range': 5000},\n",
      " 'drag': {'cd0': 0.018, 'e': 0.799, 'gears': 0.017, 'k': 0.039},\n",
      " 'engine': {'default': 'CFM56-5B4',\n",
      "            'mount': 'wing',\n",
      "            'number': 2,\n",
      "            'options': {'A320-111': 'CFM56-5-A1',\n",
      "                        'A320-211': 'CFM56-5-A1',\n",
      "                        'A320-212': 'CFM56-5A3',\n",
      "                        'A320-214': 'CFM56-5B4',\n",
      "                        'A320-215': 'CFM56-5B5',\n",
      "                        'A320-216': 'CFM56-5B6',\n",
      "                        'A320-231': 'V2500-A1',\n",
      "                        'A320-232': 'V2527-A5',\n",
      "                        'A320-233': 'V2527E-A5'},\n",
      "            'type': 'turbofan'},\n",
      " 'flaps': {'Sf/S': 0.17,\n",
      "           'area': 21.1,\n",
      "           'bf/b': 0.78,\n",
      "           'cf/c': 0.176,\n",
      "           'lambda_f': 0.9,\n",
      "           'type': 'single-slotted'},\n",
      " 'fuel': {'engine': 'CFM56-5B4/P', 'fuel_coef': 2.65942225},\n",
      " 'fuselage': {'height': 4.14, 'length': 37.57, 'width': 3.95},\n",
      " 'limits': {'MFC': 24210,\n",
      "            'MLW': 66000,\n",
      "            'MMO': 0.82,\n",
      "            'MTOW': 78000,\n",
      "            'OEW': 42600,\n",
      "            'VMO': 350,\n",
      "            'ceiling': 12500},\n",
      " 'mfc': 24210,\n",
      " 'mlw': 66000,\n",
      " 'mmo': 0.82,\n",
      " 'mtow': 78000,\n",
      " 'oew': 42600,\n",
      " 'pax': {'high': 170, 'low': 140, 'max': 180},\n",
      " 'vmo': 350,\n",
      " 'wing': {'area': 124, 'mac': 4.1935, 'span': 35.8, 'sweep': 25, 't/c': None}}\n"
     ]
    }
   ],
   "source": [
    "aircraft = prop.aircraft(\"A320\")\n",
    "pprint(aircraft)"
   ]
  },
  {
   "cell_type": "markdown",
   "id": "8ef2065c",
   "metadata": {},
   "source": [
    "## 1.3 Engine data\n",
    "The engine data can be obtained with openap.prop.engine() function:"
   ]
  },
  {
   "cell_type": "code",
   "execution_count": 4,
   "id": "e0ca1557",
   "metadata": {},
   "outputs": [
    {
     "data": {
      "text/plain": [
       "{'uid': '2CM014',\n",
       " 'name': 'CFM56-5B4',\n",
       " 'manufacturer': 'CFM International',\n",
       " 'type': 'TF',\n",
       " 'bpr': 5.9,\n",
       " 'pr': 27.1,\n",
       " 'max_thrust': 117900.0,\n",
       " 'ei_hc_to': 0.1,\n",
       " 'ei_hc_co': 0.1,\n",
       " 'ei_hc_app': 0.13,\n",
       " 'ei_hc_idl': 3.87,\n",
       " 'ei_co_to': 0.5,\n",
       " 'ei_co_co': 0.5,\n",
       " 'ei_co_app': 2.33,\n",
       " 'ei_co_idl': 31.9,\n",
       " 'ei_nox_to': 28.7,\n",
       " 'ei_nox_co': 23.3,\n",
       " 'ei_nox_app': 10.0,\n",
       " 'ei_nox_idl': 4.3,\n",
       " 'ff_to': 1.166,\n",
       " 'ff_co': 0.961,\n",
       " 'ff_app': 0.326,\n",
       " 'ff_idl': 0.107,\n",
       " 'fuel_lto': 421.0,\n",
       " 'cruise_thrust': 22241.0,\n",
       " 'cruise_sfc': 0.0154,\n",
       " 'cruise_mach': 0.8,\n",
       " 'cruise_alt': 35000.0,\n",
       " 'fuel_ch': np.float64(5.2e-07)}"
      ]
     },
     "execution_count": 4,
     "metadata": {},
     "output_type": "execute_result"
    }
   ],
   "source": [
    "engine = prop.engine(\"CFM56-5B4\")\n",
    "engine"
   ]
  },
  {
   "cell_type": "markdown",
   "id": "db614513",
   "metadata": {},
   "source": [
    "# 2  ☯️ Drag and thrust\n",
    "The OpenAP provides two modules, drag and thrust, for the calculation of drag force and maximum available thrust force during the flight.\n",
    "## 2.1 Compute the aircraft drag\n",
    "he drag calculation is based on the OpenAP’s drag polar model, which is obtained based on open trajectory data and methodology from the paper: Sun et al. (2020).\n",
    "\n",
    "Knowing the drag polar coefficients - \n",
    " (zero-lift drag coefficient) and \n",
    " (lift-induced drag coefficient) - of the aircraft, the drag force can be calculated based on the point-mass aircraft performance model:\n",
    "\n",
    " \n",
    " \n",
    " \n",
    " \n",
    "\n",
    "When an aircraft is climbing and descending, the flight path angle is also considered to calculate the lift force. Hence, by including the vertical speed, the estimation of drag can be different.\n",
    "\n",
    "An example calculation using the OpenAP’s drag module is:\n",
    "\n",
    "\n"
   ]
  },
  {
   "cell_type": "code",
   "execution_count": 5,
   "id": "f2628e62",
   "metadata": {},
   "outputs": [
    {
     "name": "stdout",
     "output_type": "stream",
     "text": [
      "A320 at condition: \n",
      "Mass:62000  TAS:250  ALT:20000  VS:1000 \n",
      "Clean configuration \n",
      "\n",
      "Total drag is 33.0 kN\n",
      "\n"
     ]
    }
   ],
   "source": [
    "from openap.drag import Drag\n",
    "\n",
    "typecode = \"A320\"\n",
    "\n",
    "mass = 62_000  # kg\n",
    "TAS = 250  # kts\n",
    "ALT = 20_000  # ft\n",
    "VS = 1000  # ft/min\n",
    "\n",
    "drag = Drag(ac=typecode)\n",
    "\n",
    "# clean configuration\n",
    "D = drag.clean(mass=mass, tas=TAS, alt=ALT, vs=VS)\n",
    "\n",
    "print(f\"\"\"{typecode} at condition: \n",
    "Mass:{mass}  TAS:{TAS}  ALT:{ALT}  VS:{VS} \n",
    "Clean configuration \n",
    "\n",
    "Total drag is {D//1000} kN\n",
    "\"\"\")"
   ]
  },
  {
   "cell_type": "markdown",
   "id": "48901ab8",
   "metadata": {},
   "source": [
    "The drag.clean() function estimates the drag force when the aircraft is at the clean configuration, which means no flaps or landing gear are deployed.\n",
    "\n",
    "During the initial climb and approach, we can also calculate drag considering flaps (providing the flaps setting angle in degrees) and whether the landing gears are extended."
   ]
  },
  {
   "cell_type": "code",
   "execution_count": 6,
   "id": "2ea432bd",
   "metadata": {},
   "outputs": [
    {
     "name": "stdout",
     "output_type": "stream",
     "text": [
      "A320 at condition: \n",
      "Mass:62000  TAS:150  ALT:1000  VS:1500 \n",
      "Flap:20 deg,  Landing Gear extended \n",
      "\n",
      "Total drag is 46.0 kN\n",
      "\n"
     ]
    }
   ],
   "source": [
    "mass = 62_000  # kg\n",
    "TAS = 150  # kts\n",
    "ALT = 1000  # ft\n",
    "VS = 1500  # ft/min\n",
    "flap_angle = 20  # degree\n",
    "\n",
    "# with flaps and landing gears\n",
    "D = drag.nonclean(\n",
    "    mass=mass,\n",
    "    tas=TAS,\n",
    "    alt=ALT,\n",
    "    flap_angle=flap_angle,\n",
    "    vs=VS,\n",
    "    landing_gear=True,\n",
    ")\n",
    "\n",
    "print(f\"\"\"{typecode} at condition: \n",
    "Mass:{mass}  TAS:{TAS}  ALT:{ALT}  VS:{VS} \n",
    "Flap:{flap_angle} deg,  Landing Gear extended \n",
    "\n",
    "Total drag is {D//1000} kN\n",
    "\"\"\")"
   ]
  },
  {
   "cell_type": "markdown",
   "id": "8984eb53",
   "metadata": {},
   "source": [
    "## 2.2 Compute maximum aircraft engine thrust\n",
    "OpenAP implements the engine thrust model proposed by Bartel & Young (2008). Small adjustments to the model was made to improve the computational efficiency.\n",
    "\n",
    "To calculate the maximum net thrust of an aircraft, we first instantiate the thrust.Thrust object:"
   ]
  },
  {
   "cell_type": "code",
   "execution_count": 7,
   "id": "5081727b",
   "metadata": {},
   "outputs": [],
   "source": [
    "from openap.thrust import Thrust\n",
    "\n",
    "thr_a320 = Thrust(ac=\"A320\", eng=\"CFM56-5B4\")"
   ]
  },
  {
   "cell_type": "markdown",
   "id": "4aff14f8",
   "metadata": {},
   "source": [
    "The function Thrust.takeoff() function is used to calculate maximum thrust during the take-off at different speed (kts) and altitude (ft) conditions, for example:"
   ]
  },
  {
   "cell_type": "code",
   "execution_count": 8,
   "id": "315e6ae3",
   "metadata": {},
   "outputs": [
    {
     "name": "stdout",
     "output_type": "stream",
     "text": [
      "Max thrust: 200.72 kN\n"
     ]
    }
   ],
   "source": [
    "T = thr_a320.takeoff(tas=100, alt=0)\n",
    "print(f\"Max thrust: {round(T/1000, 2)} kN\")"
   ]
  },
  {
   "cell_type": "markdown",
   "id": "de0c6ab5",
   "metadata": {},
   "source": [
    "The Thrust.climb() function estimates the maximum net thrust during the climb, which requires TAS (kts), altitude (ft), and rate of climb (ft/min).\n",
    "\n",
    "An example for A320 climbing at 1000 ft/min at 10,000 ft with TAS 250 kts:\n",
    "\n"
   ]
  },
  {
   "cell_type": "code",
   "execution_count": 9,
   "id": "4400edc9",
   "metadata": {},
   "outputs": [
    {
     "name": "stdout",
     "output_type": "stream",
     "text": [
      "Max thrust: 89.23 kN\n"
     ]
    }
   ],
   "source": [
    "T = thr_a320.climb(tas=250, alt=10000, roc=1000)\n",
    "print(f\"Max thrust: {round(T/1000, 2)} kN\")"
   ]
  },
  {
   "cell_type": "markdown",
   "id": "108186a7",
   "metadata": {},
   "source": [
    "The Thrust.cruise() function estimates the maximum net thrust during the cruise at different speeds and altitudes. An example is shown as follows."
   ]
  },
  {
   "cell_type": "code",
   "execution_count": 10,
   "id": "1d19b725",
   "metadata": {},
   "outputs": [
    {
     "name": "stdout",
     "output_type": "stream",
     "text": [
      "Max thrust: 53.68 kN\n"
     ]
    }
   ],
   "source": [
    "T = thr_a320.cruise(tas=300, alt=32000)\n",
    "print(f\"Max thrust: {round(T/1000, 2)} kN\")"
   ]
  },
  {
   "cell_type": "markdown",
   "id": "a83ca478",
   "metadata": {},
   "source": [
    "## 2.3 Idle thrust\n",
    "Furthermore, we can use the Thrust.descent_ide() function to estimate the idle thrust during the descent at different altitude and speed conditions.\n",
    "\n",
    "The idle thrust is modeled as approximately 7% of the maximum thrust at the same altitude and speed.\n",
    "\n",
    "An example is shown as follows:"
   ]
  },
  {
   "cell_type": "code",
   "execution_count": 18,
   "id": "5a3a88e4",
   "metadata": {},
   "outputs": [
    {
     "name": "stdout",
     "output_type": "stream",
     "text": [
      "Idle thrust: 4.53 kN\n"
     ]
    }
   ],
   "source": [
    "T = thr_a320.descent_idle(tas=270, alt=30000)\n",
    "print(f\"Idle thrust: {round(T/1000, 2)} kN\")"
   ]
  }
 ],
 "metadata": {
  "kernelspec": {
   "display_name": "atc_sim",
   "language": "python",
   "name": "python3"
  },
  "language_info": {
   "codemirror_mode": {
    "name": "ipython",
    "version": 3
   },
   "file_extension": ".py",
   "mimetype": "text/x-python",
   "name": "python",
   "nbconvert_exporter": "python",
   "pygments_lexer": "ipython3",
   "version": "3.12.11"
  }
 },
 "nbformat": 4,
 "nbformat_minor": 5
}
